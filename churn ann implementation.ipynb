{
 "cells": [
  {
   "cell_type": "code",
   "execution_count": 1,
   "id": "e02d4219",
   "metadata": {},
   "outputs": [
    {
     "name": "stdout",
     "output_type": "stream",
     "text": [
      "Defaulting to user installation because normal site-packages is not writeable\n",
      "Collecting tensorflow\n",
      "  Using cached tensorflow-2.15.0-cp310-cp310-win_amd64.whl (2.1 kB)\n",
      "Collecting tensorflow-intel==2.15.0\n",
      "  Using cached tensorflow_intel-2.15.0-cp310-cp310-win_amd64.whl (300.9 MB)\n",
      "Collecting absl-py>=1.0.0\n",
      "  Downloading absl_py-2.0.0-py3-none-any.whl (130 kB)\n",
      "     ------------------------------------ 130.2/130.2 kB 170.6 kB/s eta 0:00:00\n",
      "Collecting grpcio<2.0,>=1.24.3\n",
      "  Downloading grpcio-1.59.3-cp310-cp310-win_amd64.whl (3.7 MB)\n",
      "     ---------------------------------------- 3.7/3.7 MB 645.9 kB/s eta 0:00:00\n",
      "Requirement already satisfied: packaging in c:\\programdata\\anaconda3\\lib\\site-packages (from tensorflow-intel==2.15.0->tensorflow) (22.0)\n",
      "Collecting termcolor>=1.1.0\n",
      "  Downloading termcolor-2.4.0-py3-none-any.whl (7.7 kB)\n",
      "Collecting tensorflow-io-gcs-filesystem>=0.23.1\n",
      "  Downloading tensorflow_io_gcs_filesystem-0.31.0-cp310-cp310-win_amd64.whl (1.5 MB)\n",
      "     ---------------------------------------- 1.5/1.5 MB 821.4 kB/s eta 0:00:00\n",
      "Collecting tensorflow-estimator<2.16,>=2.15.0\n",
      "  Downloading tensorflow_estimator-2.15.0-py2.py3-none-any.whl (441 kB)\n",
      "     ------------------------------------ 442.0/442.0 kB 987.9 kB/s eta 0:00:00\n",
      "Collecting keras<2.16,>=2.15.0\n",
      "  Downloading keras-2.15.0-py3-none-any.whl (1.7 MB)\n",
      "     ---------------------------------------- 1.7/1.7 MB 1.1 MB/s eta 0:00:00\n",
      "Collecting opt-einsum>=2.3.2\n",
      "  Using cached opt_einsum-3.3.0-py3-none-any.whl (65 kB)\n",
      "Collecting astunparse>=1.6.0\n",
      "  Using cached astunparse-1.6.3-py2.py3-none-any.whl (12 kB)\n",
      "Requirement already satisfied: h5py>=2.9.0 in c:\\programdata\\anaconda3\\lib\\site-packages (from tensorflow-intel==2.15.0->tensorflow) (3.7.0)\n",
      "Collecting tensorboard<2.16,>=2.15\n",
      "  Downloading tensorboard-2.15.1-py3-none-any.whl (5.5 MB)\n",
      "     ---------------------------------------- 5.5/5.5 MB 1.0 MB/s eta 0:00:00\n",
      "Requirement already satisfied: six>=1.12.0 in c:\\programdata\\anaconda3\\lib\\site-packages (from tensorflow-intel==2.15.0->tensorflow) (1.16.0)\n",
      "Collecting flatbuffers>=23.5.26\n",
      "  Downloading flatbuffers-23.5.26-py2.py3-none-any.whl (26 kB)\n",
      "Collecting gast!=0.5.0,!=0.5.1,!=0.5.2,>=0.2.1\n",
      "  Using cached gast-0.5.4-py3-none-any.whl (19 kB)\n",
      "Requirement already satisfied: wrapt<1.15,>=1.11.0 in c:\\programdata\\anaconda3\\lib\\site-packages (from tensorflow-intel==2.15.0->tensorflow) (1.14.1)\n",
      "Requirement already satisfied: protobuf!=4.21.0,!=4.21.1,!=4.21.2,!=4.21.3,!=4.21.4,!=4.21.5,<5.0.0dev,>=3.20.3 in c:\\users\\user\\appdata\\roaming\\python\\python310\\site-packages (from tensorflow-intel==2.15.0->tensorflow) (4.23.4)\n",
      "Requirement already satisfied: typing-extensions>=3.6.6 in c:\\programdata\\anaconda3\\lib\\site-packages (from tensorflow-intel==2.15.0->tensorflow) (4.4.0)\n",
      "Collecting ml-dtypes~=0.2.0\n",
      "  Downloading ml_dtypes-0.2.0-cp310-cp310-win_amd64.whl (938 kB)\n",
      "     -------------------------------------- 938.6/938.6 kB 1.2 MB/s eta 0:00:00\n",
      "Collecting libclang>=13.0.0\n",
      "  Downloading libclang-16.0.6-py2.py3-none-win_amd64.whl (24.4 MB)\n",
      "     -------------------------------------- 24.4/24.4 MB 624.3 kB/s eta 0:00:00\n",
      "Requirement already satisfied: setuptools in c:\\programdata\\anaconda3\\lib\\site-packages (from tensorflow-intel==2.15.0->tensorflow) (65.6.3)\n",
      "Requirement already satisfied: numpy<2.0.0,>=1.23.5 in c:\\programdata\\anaconda3\\lib\\site-packages (from tensorflow-intel==2.15.0->tensorflow) (1.23.5)\n",
      "Collecting google-pasta>=0.1.1\n",
      "  Using cached google_pasta-0.2.0-py3-none-any.whl (57 kB)\n",
      "Requirement already satisfied: wheel<1.0,>=0.23.0 in c:\\programdata\\anaconda3\\lib\\site-packages (from astunparse>=1.6.0->tensorflow-intel==2.15.0->tensorflow) (0.38.4)\n",
      "Requirement already satisfied: werkzeug>=1.0.1 in c:\\programdata\\anaconda3\\lib\\site-packages (from tensorboard<2.16,>=2.15->tensorflow-intel==2.15.0->tensorflow) (2.2.2)\n",
      "Collecting google-auth-oauthlib<2,>=0.5\n",
      "  Downloading google_auth_oauthlib-1.1.0-py2.py3-none-any.whl (19 kB)\n",
      "Collecting google-auth<3,>=1.6.3\n",
      "  Downloading google_auth-2.24.0-py2.py3-none-any.whl (183 kB)\n",
      "     ------------------------------------ 183.8/183.8 kB 246.9 kB/s eta 0:00:00\n",
      "Requirement already satisfied: requests<3,>=2.21.0 in c:\\programdata\\anaconda3\\lib\\site-packages (from tensorboard<2.16,>=2.15->tensorflow-intel==2.15.0->tensorflow) (2.28.1)\n",
      "Collecting tensorboard-data-server<0.8.0,>=0.7.0\n",
      "  Downloading tensorboard_data_server-0.7.2-py3-none-any.whl (2.4 kB)\n",
      "Requirement already satisfied: markdown>=2.6.8 in c:\\programdata\\anaconda3\\lib\\site-packages (from tensorboard<2.16,>=2.15->tensorflow-intel==2.15.0->tensorflow) (3.4.1)\n",
      "Requirement already satisfied: pyasn1-modules>=0.2.1 in c:\\programdata\\anaconda3\\lib\\site-packages (from google-auth<3,>=1.6.3->tensorboard<2.16,>=2.15->tensorflow-intel==2.15.0->tensorflow) (0.2.8)\n",
      "Collecting cachetools<6.0,>=2.0.0\n",
      "  Downloading cachetools-5.3.2-py3-none-any.whl (9.3 kB)\n",
      "Collecting rsa<5,>=3.1.4\n",
      "  Using cached rsa-4.9-py3-none-any.whl (34 kB)\n",
      "Collecting requests-oauthlib>=0.7.0\n",
      "  Using cached requests_oauthlib-1.3.1-py2.py3-none-any.whl (23 kB)\n",
      "Requirement already satisfied: certifi>=2017.4.17 in c:\\programdata\\anaconda3\\lib\\site-packages (from requests<3,>=2.21.0->tensorboard<2.16,>=2.15->tensorflow-intel==2.15.0->tensorflow) (2022.12.7)\n",
      "Requirement already satisfied: urllib3<1.27,>=1.21.1 in c:\\programdata\\anaconda3\\lib\\site-packages (from requests<3,>=2.21.0->tensorboard<2.16,>=2.15->tensorflow-intel==2.15.0->tensorflow) (1.26.14)\n",
      "Requirement already satisfied: charset-normalizer<3,>=2 in c:\\programdata\\anaconda3\\lib\\site-packages (from requests<3,>=2.21.0->tensorboard<2.16,>=2.15->tensorflow-intel==2.15.0->tensorflow) (2.0.4)\n",
      "Requirement already satisfied: idna<4,>=2.5 in c:\\programdata\\anaconda3\\lib\\site-packages (from requests<3,>=2.21.0->tensorboard<2.16,>=2.15->tensorflow-intel==2.15.0->tensorflow) (3.4)\n",
      "Requirement already satisfied: MarkupSafe>=2.1.1 in c:\\programdata\\anaconda3\\lib\\site-packages (from werkzeug>=1.0.1->tensorboard<2.16,>=2.15->tensorflow-intel==2.15.0->tensorflow) (2.1.1)\n",
      "Requirement already satisfied: pyasn1<0.5.0,>=0.4.6 in c:\\programdata\\anaconda3\\lib\\site-packages (from pyasn1-modules>=0.2.1->google-auth<3,>=1.6.3->tensorboard<2.16,>=2.15->tensorflow-intel==2.15.0->tensorflow) (0.4.8)\n",
      "Requirement already satisfied: oauthlib>=3.0.0 in c:\\users\\user\\appdata\\roaming\\python\\python310\\site-packages (from requests-oauthlib>=0.7.0->google-auth-oauthlib<2,>=0.5->tensorboard<2.16,>=2.15->tensorflow-intel==2.15.0->tensorflow) (3.2.2)\n",
      "Installing collected packages: libclang, flatbuffers, termcolor, tensorflow-io-gcs-filesystem, tensorflow-estimator, tensorboard-data-server, rsa, opt-einsum, ml-dtypes, keras, grpcio, google-pasta, gast, cachetools, astunparse, absl-py, requests-oauthlib, google-auth, google-auth-oauthlib, tensorboard, tensorflow-intel, tensorflow\n",
      "Successfully installed absl-py-2.0.0 astunparse-1.6.3 cachetools-5.3.2 flatbuffers-23.5.26 gast-0.5.4 google-auth-2.24.0 google-auth-oauthlib-1.1.0 google-pasta-0.2.0 grpcio-1.59.3 keras-2.15.0 libclang-16.0.6 ml-dtypes-0.2.0 opt-einsum-3.3.0 requests-oauthlib-1.3.1 rsa-4.9 tensorboard-2.15.1 tensorboard-data-server-0.7.2 tensorflow-2.15.0 tensorflow-estimator-2.15.0 tensorflow-intel-2.15.0 tensorflow-io-gcs-filesystem-0.31.0 termcolor-2.4.0\n",
      "Note: you may need to restart the kernel to use updated packages.\n"
     ]
    },
    {
     "name": "stderr",
     "output_type": "stream",
     "text": [
      "  WARNING: The scripts pyrsa-decrypt.exe, pyrsa-encrypt.exe, pyrsa-keygen.exe, pyrsa-priv2pub.exe, pyrsa-sign.exe and pyrsa-verify.exe are installed in 'C:\\Users\\User\\AppData\\Roaming\\Python\\Python310\\Scripts' which is not on PATH.\n",
      "  Consider adding this directory to PATH or, if you prefer to suppress this warning, use --no-warn-script-location.\n",
      "  WARNING: The script google-oauthlib-tool.exe is installed in 'C:\\Users\\User\\AppData\\Roaming\\Python\\Python310\\Scripts' which is not on PATH.\n",
      "  Consider adding this directory to PATH or, if you prefer to suppress this warning, use --no-warn-script-location.\n",
      "  WARNING: The script tensorboard.exe is installed in 'C:\\Users\\User\\AppData\\Roaming\\Python\\Python310\\Scripts' which is not on PATH.\n",
      "  Consider adding this directory to PATH or, if you prefer to suppress this warning, use --no-warn-script-location.\n",
      "  WARNING: The scripts estimator_ckpt_converter.exe, import_pb_to_tensorboard.exe, saved_model_cli.exe, tensorboard.exe, tf_upgrade_v2.exe, tflite_convert.exe, toco.exe and toco_from_protos.exe are installed in 'C:\\Users\\User\\AppData\\Roaming\\Python\\Python310\\Scripts' which is not on PATH.\n",
      "  Consider adding this directory to PATH or, if you prefer to suppress this warning, use --no-warn-script-location.\n"
     ]
    }
   ],
   "source": [
    "#%pip install tensorflow\n",
    "\n",
    "\n"
   ]
  },
  {
   "cell_type": "code",
   "execution_count": 2,
   "id": "72f2f03f",
   "metadata": {},
   "outputs": [
    {
     "name": "stdout",
     "output_type": "stream",
     "text": [
      "2.15.0\n"
     ]
    }
   ],
   "source": [
    "import tensorflow as tf\n",
    "\n",
    "print(tf.__version__)\n",
    "\n"
   ]
  },
  {
   "cell_type": "code",
   "execution_count": 1,
   "id": "f2820355",
   "metadata": {},
   "outputs": [],
   "source": [
    "# Importing the libraries\n",
    "import numpy as np\n",
    "import matplotlib.pyplot as plt\n",
    "import pandas as pd"
   ]
  },
  {
   "cell_type": "code",
   "execution_count": 12,
   "id": "4ff64edd",
   "metadata": {},
   "outputs": [],
   "source": [
    "dataset = pd.read_csv(\"Churn_Modelling.csv\")\n"
   ]
  },
  {
   "cell_type": "code",
   "execution_count": 13,
   "id": "a8bd9df5",
   "metadata": {},
   "outputs": [
    {
     "data": {
      "text/html": [
       "<div>\n",
       "<style scoped>\n",
       "    .dataframe tbody tr th:only-of-type {\n",
       "        vertical-align: middle;\n",
       "    }\n",
       "\n",
       "    .dataframe tbody tr th {\n",
       "        vertical-align: top;\n",
       "    }\n",
       "\n",
       "    .dataframe thead th {\n",
       "        text-align: right;\n",
       "    }\n",
       "</style>\n",
       "<table border=\"1\" class=\"dataframe\">\n",
       "  <thead>\n",
       "    <tr style=\"text-align: right;\">\n",
       "      <th></th>\n",
       "      <th>RowNumber</th>\n",
       "      <th>CustomerId</th>\n",
       "      <th>Surname</th>\n",
       "      <th>CreditScore</th>\n",
       "      <th>Geography</th>\n",
       "      <th>Gender</th>\n",
       "      <th>Age</th>\n",
       "      <th>Tenure</th>\n",
       "      <th>Balance</th>\n",
       "      <th>NumOfProducts</th>\n",
       "      <th>HasCrCard</th>\n",
       "      <th>IsActiveMember</th>\n",
       "      <th>EstimatedSalary</th>\n",
       "      <th>Exited</th>\n",
       "    </tr>\n",
       "  </thead>\n",
       "  <tbody>\n",
       "    <tr>\n",
       "      <th>0</th>\n",
       "      <td>1</td>\n",
       "      <td>15634602</td>\n",
       "      <td>Hargrave</td>\n",
       "      <td>619</td>\n",
       "      <td>France</td>\n",
       "      <td>Female</td>\n",
       "      <td>42</td>\n",
       "      <td>2</td>\n",
       "      <td>0.00</td>\n",
       "      <td>1</td>\n",
       "      <td>1</td>\n",
       "      <td>1</td>\n",
       "      <td>101348.88</td>\n",
       "      <td>1</td>\n",
       "    </tr>\n",
       "    <tr>\n",
       "      <th>1</th>\n",
       "      <td>2</td>\n",
       "      <td>15647311</td>\n",
       "      <td>Hill</td>\n",
       "      <td>608</td>\n",
       "      <td>Spain</td>\n",
       "      <td>Female</td>\n",
       "      <td>41</td>\n",
       "      <td>1</td>\n",
       "      <td>83807.86</td>\n",
       "      <td>1</td>\n",
       "      <td>0</td>\n",
       "      <td>1</td>\n",
       "      <td>112542.58</td>\n",
       "      <td>0</td>\n",
       "    </tr>\n",
       "    <tr>\n",
       "      <th>2</th>\n",
       "      <td>3</td>\n",
       "      <td>15619304</td>\n",
       "      <td>Onio</td>\n",
       "      <td>502</td>\n",
       "      <td>France</td>\n",
       "      <td>Female</td>\n",
       "      <td>42</td>\n",
       "      <td>8</td>\n",
       "      <td>159660.80</td>\n",
       "      <td>3</td>\n",
       "      <td>1</td>\n",
       "      <td>0</td>\n",
       "      <td>113931.57</td>\n",
       "      <td>1</td>\n",
       "    </tr>\n",
       "    <tr>\n",
       "      <th>3</th>\n",
       "      <td>4</td>\n",
       "      <td>15701354</td>\n",
       "      <td>Boni</td>\n",
       "      <td>699</td>\n",
       "      <td>France</td>\n",
       "      <td>Female</td>\n",
       "      <td>39</td>\n",
       "      <td>1</td>\n",
       "      <td>0.00</td>\n",
       "      <td>2</td>\n",
       "      <td>0</td>\n",
       "      <td>0</td>\n",
       "      <td>93826.63</td>\n",
       "      <td>0</td>\n",
       "    </tr>\n",
       "    <tr>\n",
       "      <th>4</th>\n",
       "      <td>5</td>\n",
       "      <td>15737888</td>\n",
       "      <td>Mitchell</td>\n",
       "      <td>850</td>\n",
       "      <td>Spain</td>\n",
       "      <td>Female</td>\n",
       "      <td>43</td>\n",
       "      <td>2</td>\n",
       "      <td>125510.82</td>\n",
       "      <td>1</td>\n",
       "      <td>1</td>\n",
       "      <td>1</td>\n",
       "      <td>79084.10</td>\n",
       "      <td>0</td>\n",
       "    </tr>\n",
       "  </tbody>\n",
       "</table>\n",
       "</div>"
      ],
      "text/plain": [
       "   RowNumber  CustomerId   Surname  CreditScore Geography  Gender  Age  \\\n",
       "0          1    15634602  Hargrave          619    France  Female   42   \n",
       "1          2    15647311      Hill          608     Spain  Female   41   \n",
       "2          3    15619304      Onio          502    France  Female   42   \n",
       "3          4    15701354      Boni          699    France  Female   39   \n",
       "4          5    15737888  Mitchell          850     Spain  Female   43   \n",
       "\n",
       "   Tenure    Balance  NumOfProducts  HasCrCard  IsActiveMember  \\\n",
       "0       2       0.00              1          1               1   \n",
       "1       1   83807.86              1          0               1   \n",
       "2       8  159660.80              3          1               0   \n",
       "3       1       0.00              2          0               0   \n",
       "4       2  125510.82              1          1               1   \n",
       "\n",
       "   EstimatedSalary  Exited  \n",
       "0        101348.88       1  \n",
       "1        112542.58       0  \n",
       "2        113931.57       1  \n",
       "3         93826.63       0  \n",
       "4         79084.10       0  "
      ]
     },
     "execution_count": 13,
     "metadata": {},
     "output_type": "execute_result"
    }
   ],
   "source": [
    "dataset.head()"
   ]
  },
  {
   "cell_type": "code",
   "execution_count": 17,
   "id": "acfcbb1b",
   "metadata": {},
   "outputs": [],
   "source": [
    "##divide the dataset into dependent and independent feature:\n",
    "X=dataset.iloc[:,3:13]\n",
    "y=dataset.iloc[:,13]"
   ]
  },
  {
   "cell_type": "code",
   "execution_count": 18,
   "id": "5df85a62",
   "metadata": {},
   "outputs": [
    {
     "data": {
      "text/html": [
       "<div>\n",
       "<style scoped>\n",
       "    .dataframe tbody tr th:only-of-type {\n",
       "        vertical-align: middle;\n",
       "    }\n",
       "\n",
       "    .dataframe tbody tr th {\n",
       "        vertical-align: top;\n",
       "    }\n",
       "\n",
       "    .dataframe thead th {\n",
       "        text-align: right;\n",
       "    }\n",
       "</style>\n",
       "<table border=\"1\" class=\"dataframe\">\n",
       "  <thead>\n",
       "    <tr style=\"text-align: right;\">\n",
       "      <th></th>\n",
       "      <th>CreditScore</th>\n",
       "      <th>Geography</th>\n",
       "      <th>Gender</th>\n",
       "      <th>Age</th>\n",
       "      <th>Tenure</th>\n",
       "      <th>Balance</th>\n",
       "      <th>NumOfProducts</th>\n",
       "      <th>HasCrCard</th>\n",
       "      <th>IsActiveMember</th>\n",
       "      <th>EstimatedSalary</th>\n",
       "    </tr>\n",
       "  </thead>\n",
       "  <tbody>\n",
       "    <tr>\n",
       "      <th>0</th>\n",
       "      <td>619</td>\n",
       "      <td>France</td>\n",
       "      <td>Female</td>\n",
       "      <td>42</td>\n",
       "      <td>2</td>\n",
       "      <td>0.00</td>\n",
       "      <td>1</td>\n",
       "      <td>1</td>\n",
       "      <td>1</td>\n",
       "      <td>101348.88</td>\n",
       "    </tr>\n",
       "    <tr>\n",
       "      <th>1</th>\n",
       "      <td>608</td>\n",
       "      <td>Spain</td>\n",
       "      <td>Female</td>\n",
       "      <td>41</td>\n",
       "      <td>1</td>\n",
       "      <td>83807.86</td>\n",
       "      <td>1</td>\n",
       "      <td>0</td>\n",
       "      <td>1</td>\n",
       "      <td>112542.58</td>\n",
       "    </tr>\n",
       "    <tr>\n",
       "      <th>2</th>\n",
       "      <td>502</td>\n",
       "      <td>France</td>\n",
       "      <td>Female</td>\n",
       "      <td>42</td>\n",
       "      <td>8</td>\n",
       "      <td>159660.80</td>\n",
       "      <td>3</td>\n",
       "      <td>1</td>\n",
       "      <td>0</td>\n",
       "      <td>113931.57</td>\n",
       "    </tr>\n",
       "    <tr>\n",
       "      <th>3</th>\n",
       "      <td>699</td>\n",
       "      <td>France</td>\n",
       "      <td>Female</td>\n",
       "      <td>39</td>\n",
       "      <td>1</td>\n",
       "      <td>0.00</td>\n",
       "      <td>2</td>\n",
       "      <td>0</td>\n",
       "      <td>0</td>\n",
       "      <td>93826.63</td>\n",
       "    </tr>\n",
       "    <tr>\n",
       "      <th>4</th>\n",
       "      <td>850</td>\n",
       "      <td>Spain</td>\n",
       "      <td>Female</td>\n",
       "      <td>43</td>\n",
       "      <td>2</td>\n",
       "      <td>125510.82</td>\n",
       "      <td>1</td>\n",
       "      <td>1</td>\n",
       "      <td>1</td>\n",
       "      <td>79084.10</td>\n",
       "    </tr>\n",
       "  </tbody>\n",
       "</table>\n",
       "</div>"
      ],
      "text/plain": [
       "   CreditScore Geography  Gender  Age  Tenure    Balance  NumOfProducts  \\\n",
       "0          619    France  Female   42       2       0.00              1   \n",
       "1          608     Spain  Female   41       1   83807.86              1   \n",
       "2          502    France  Female   42       8  159660.80              3   \n",
       "3          699    France  Female   39       1       0.00              2   \n",
       "4          850     Spain  Female   43       2  125510.82              1   \n",
       "\n",
       "   HasCrCard  IsActiveMember  EstimatedSalary  \n",
       "0          1               1        101348.88  \n",
       "1          0               1        112542.58  \n",
       "2          1               0        113931.57  \n",
       "3          0               0         93826.63  \n",
       "4          1               1         79084.10  "
      ]
     },
     "execution_count": 18,
     "metadata": {},
     "output_type": "execute_result"
    }
   ],
   "source": [
    "X.head()"
   ]
  },
  {
   "cell_type": "code",
   "execution_count": 21,
   "id": "6d56edd5",
   "metadata": {},
   "outputs": [],
   "source": [
    "##feature engineering:\n",
    "geography=pd.get_dummies(X['Geography'],drop_first=True)\n",
    "gender=pd.get_dummies(X['Gender'],drop_first=True)"
   ]
  },
  {
   "cell_type": "code",
   "execution_count": 24,
   "id": "c993b298",
   "metadata": {},
   "outputs": [],
   "source": [
    "#concatenate these variables with dataframe\n",
    "X=X.drop(['Geography','Gender'],axis=1)"
   ]
  },
  {
   "cell_type": "code",
   "execution_count": 25,
   "id": "eeef209b",
   "metadata": {},
   "outputs": [
    {
     "data": {
      "text/html": [
       "<div>\n",
       "<style scoped>\n",
       "    .dataframe tbody tr th:only-of-type {\n",
       "        vertical-align: middle;\n",
       "    }\n",
       "\n",
       "    .dataframe tbody tr th {\n",
       "        vertical-align: top;\n",
       "    }\n",
       "\n",
       "    .dataframe thead th {\n",
       "        text-align: right;\n",
       "    }\n",
       "</style>\n",
       "<table border=\"1\" class=\"dataframe\">\n",
       "  <thead>\n",
       "    <tr style=\"text-align: right;\">\n",
       "      <th></th>\n",
       "      <th>CreditScore</th>\n",
       "      <th>Age</th>\n",
       "      <th>Tenure</th>\n",
       "      <th>Balance</th>\n",
       "      <th>NumOfProducts</th>\n",
       "      <th>HasCrCard</th>\n",
       "      <th>IsActiveMember</th>\n",
       "      <th>EstimatedSalary</th>\n",
       "    </tr>\n",
       "  </thead>\n",
       "  <tbody>\n",
       "    <tr>\n",
       "      <th>0</th>\n",
       "      <td>619</td>\n",
       "      <td>42</td>\n",
       "      <td>2</td>\n",
       "      <td>0.00</td>\n",
       "      <td>1</td>\n",
       "      <td>1</td>\n",
       "      <td>1</td>\n",
       "      <td>101348.88</td>\n",
       "    </tr>\n",
       "    <tr>\n",
       "      <th>1</th>\n",
       "      <td>608</td>\n",
       "      <td>41</td>\n",
       "      <td>1</td>\n",
       "      <td>83807.86</td>\n",
       "      <td>1</td>\n",
       "      <td>0</td>\n",
       "      <td>1</td>\n",
       "      <td>112542.58</td>\n",
       "    </tr>\n",
       "    <tr>\n",
       "      <th>2</th>\n",
       "      <td>502</td>\n",
       "      <td>42</td>\n",
       "      <td>8</td>\n",
       "      <td>159660.80</td>\n",
       "      <td>3</td>\n",
       "      <td>1</td>\n",
       "      <td>0</td>\n",
       "      <td>113931.57</td>\n",
       "    </tr>\n",
       "    <tr>\n",
       "      <th>3</th>\n",
       "      <td>699</td>\n",
       "      <td>39</td>\n",
       "      <td>1</td>\n",
       "      <td>0.00</td>\n",
       "      <td>2</td>\n",
       "      <td>0</td>\n",
       "      <td>0</td>\n",
       "      <td>93826.63</td>\n",
       "    </tr>\n",
       "    <tr>\n",
       "      <th>4</th>\n",
       "      <td>850</td>\n",
       "      <td>43</td>\n",
       "      <td>2</td>\n",
       "      <td>125510.82</td>\n",
       "      <td>1</td>\n",
       "      <td>1</td>\n",
       "      <td>1</td>\n",
       "      <td>79084.10</td>\n",
       "    </tr>\n",
       "  </tbody>\n",
       "</table>\n",
       "</div>"
      ],
      "text/plain": [
       "   CreditScore  Age  Tenure    Balance  NumOfProducts  HasCrCard  \\\n",
       "0          619   42       2       0.00              1          1   \n",
       "1          608   41       1   83807.86              1          0   \n",
       "2          502   42       8  159660.80              3          1   \n",
       "3          699   39       1       0.00              2          0   \n",
       "4          850   43       2  125510.82              1          1   \n",
       "\n",
       "   IsActiveMember  EstimatedSalary  \n",
       "0               1        101348.88  \n",
       "1               1        112542.58  \n",
       "2               0        113931.57  \n",
       "3               0         93826.63  \n",
       "4               1         79084.10  "
      ]
     },
     "execution_count": 25,
     "metadata": {},
     "output_type": "execute_result"
    }
   ],
   "source": [
    "X.head()"
   ]
  },
  {
   "cell_type": "code",
   "execution_count": 27,
   "id": "7f83cbbe",
   "metadata": {},
   "outputs": [],
   "source": [
    "X=pd.concat([X,geography,gender],axis=1)"
   ]
  },
  {
   "cell_type": "code",
   "execution_count": 28,
   "id": "b66c36b2",
   "metadata": {},
   "outputs": [
    {
     "data": {
      "text/html": [
       "<div>\n",
       "<style scoped>\n",
       "    .dataframe tbody tr th:only-of-type {\n",
       "        vertical-align: middle;\n",
       "    }\n",
       "\n",
       "    .dataframe tbody tr th {\n",
       "        vertical-align: top;\n",
       "    }\n",
       "\n",
       "    .dataframe thead th {\n",
       "        text-align: right;\n",
       "    }\n",
       "</style>\n",
       "<table border=\"1\" class=\"dataframe\">\n",
       "  <thead>\n",
       "    <tr style=\"text-align: right;\">\n",
       "      <th></th>\n",
       "      <th>CreditScore</th>\n",
       "      <th>Age</th>\n",
       "      <th>Tenure</th>\n",
       "      <th>Balance</th>\n",
       "      <th>NumOfProducts</th>\n",
       "      <th>HasCrCard</th>\n",
       "      <th>IsActiveMember</th>\n",
       "      <th>EstimatedSalary</th>\n",
       "      <th>Germany</th>\n",
       "      <th>Spain</th>\n",
       "      <th>Male</th>\n",
       "    </tr>\n",
       "  </thead>\n",
       "  <tbody>\n",
       "    <tr>\n",
       "      <th>0</th>\n",
       "      <td>619</td>\n",
       "      <td>42</td>\n",
       "      <td>2</td>\n",
       "      <td>0.00</td>\n",
       "      <td>1</td>\n",
       "      <td>1</td>\n",
       "      <td>1</td>\n",
       "      <td>101348.88</td>\n",
       "      <td>0</td>\n",
       "      <td>0</td>\n",
       "      <td>0</td>\n",
       "    </tr>\n",
       "    <tr>\n",
       "      <th>1</th>\n",
       "      <td>608</td>\n",
       "      <td>41</td>\n",
       "      <td>1</td>\n",
       "      <td>83807.86</td>\n",
       "      <td>1</td>\n",
       "      <td>0</td>\n",
       "      <td>1</td>\n",
       "      <td>112542.58</td>\n",
       "      <td>0</td>\n",
       "      <td>1</td>\n",
       "      <td>0</td>\n",
       "    </tr>\n",
       "    <tr>\n",
       "      <th>2</th>\n",
       "      <td>502</td>\n",
       "      <td>42</td>\n",
       "      <td>8</td>\n",
       "      <td>159660.80</td>\n",
       "      <td>3</td>\n",
       "      <td>1</td>\n",
       "      <td>0</td>\n",
       "      <td>113931.57</td>\n",
       "      <td>0</td>\n",
       "      <td>0</td>\n",
       "      <td>0</td>\n",
       "    </tr>\n",
       "    <tr>\n",
       "      <th>3</th>\n",
       "      <td>699</td>\n",
       "      <td>39</td>\n",
       "      <td>1</td>\n",
       "      <td>0.00</td>\n",
       "      <td>2</td>\n",
       "      <td>0</td>\n",
       "      <td>0</td>\n",
       "      <td>93826.63</td>\n",
       "      <td>0</td>\n",
       "      <td>0</td>\n",
       "      <td>0</td>\n",
       "    </tr>\n",
       "    <tr>\n",
       "      <th>4</th>\n",
       "      <td>850</td>\n",
       "      <td>43</td>\n",
       "      <td>2</td>\n",
       "      <td>125510.82</td>\n",
       "      <td>1</td>\n",
       "      <td>1</td>\n",
       "      <td>1</td>\n",
       "      <td>79084.10</td>\n",
       "      <td>0</td>\n",
       "      <td>1</td>\n",
       "      <td>0</td>\n",
       "    </tr>\n",
       "  </tbody>\n",
       "</table>\n",
       "</div>"
      ],
      "text/plain": [
       "   CreditScore  Age  Tenure    Balance  NumOfProducts  HasCrCard  \\\n",
       "0          619   42       2       0.00              1          1   \n",
       "1          608   41       1   83807.86              1          0   \n",
       "2          502   42       8  159660.80              3          1   \n",
       "3          699   39       1       0.00              2          0   \n",
       "4          850   43       2  125510.82              1          1   \n",
       "\n",
       "   IsActiveMember  EstimatedSalary  Germany  Spain  Male  \n",
       "0               1        101348.88        0      0     0  \n",
       "1               1        112542.58        0      1     0  \n",
       "2               0        113931.57        0      0     0  \n",
       "3               0         93826.63        0      0     0  \n",
       "4               1         79084.10        0      1     0  "
      ]
     },
     "execution_count": 28,
     "metadata": {},
     "output_type": "execute_result"
    }
   ],
   "source": [
    "X.head()"
   ]
  },
  {
   "cell_type": "code",
   "execution_count": 30,
   "id": "ce5a2ea0",
   "metadata": {},
   "outputs": [],
   "source": [
    "#splitting the dataset into training and test set:\n",
    "from sklearn.model_selection import train_test_split\n",
    "\n",
    "X_train,X_test,y_train,y_test=train_test_split(X,y,test_size=0.2,random_state=0)"
   ]
  },
  {
   "cell_type": "code",
   "execution_count": 31,
   "id": "ba0e77b3",
   "metadata": {},
   "outputs": [],
   "source": [
    "#feature scaling:\n",
    "from sklearn.preprocessing import StandardScaler\n",
    "sc = StandardScaler()\n",
    "X_train = sc.fit_transform(X_train)\n",
    "X_test = sc.transform(X_test)"
   ]
  },
  {
   "cell_type": "code",
   "execution_count": 33,
   "id": "b79c2336",
   "metadata": {},
   "outputs": [
    {
     "data": {
      "text/plain": [
       "(8000, 11)"
      ]
     },
     "execution_count": 33,
     "metadata": {},
     "output_type": "execute_result"
    }
   ],
   "source": [
    "X_train.shape"
   ]
  },
  {
   "cell_type": "code",
   "execution_count": 34,
   "id": "190c9bde",
   "metadata": {},
   "outputs": [
    {
     "name": "stdout",
     "output_type": "stream",
     "text": [
      "WARNING:tensorflow:From C:\\Users\\User\\AppData\\Roaming\\Python\\Python310\\site-packages\\keras\\src\\losses.py:2976: The name tf.losses.sparse_softmax_cross_entropy is deprecated. Please use tf.compat.v1.losses.sparse_softmax_cross_entropy instead.\n",
      "\n"
     ]
    }
   ],
   "source": [
    "##part 2 create ann:\n",
    "from tensorflow.keras.models import Sequential\n",
    "from tensorflow.keras.layers import Dense\n",
    "from tensorflow.keras.layers import LeakyReLU,PReLU,ELU,ReLU\n",
    "from tensorflow.keras.layers import Dropout"
   ]
  },
  {
   "cell_type": "code",
   "execution_count": 35,
   "id": "c1143097",
   "metadata": {},
   "outputs": [
    {
     "name": "stdout",
     "output_type": "stream",
     "text": [
      "WARNING:tensorflow:From C:\\Users\\User\\AppData\\Roaming\\Python\\Python310\\site-packages\\keras\\src\\backend.py:873: The name tf.get_default_graph is deprecated. Please use tf.compat.v1.get_default_graph instead.\n",
      "\n"
     ]
    }
   ],
   "source": [
    "##lets initial the ann\n",
    "classifier=Sequential()"
   ]
  },
  {
   "cell_type": "code",
   "execution_count": 38,
   "id": "578670ff",
   "metadata": {},
   "outputs": [],
   "source": [
    "# Adding the input layer and the first hidden layer\n",
    "classifier.add(Dense(units=11,activation='relu'))"
   ]
  },
  {
   "cell_type": "code",
   "execution_count": 66,
   "id": "51a37a87",
   "metadata": {},
   "outputs": [],
   "source": [
    "# Adding the input layer and the second hidden layer\n",
    "classifier.add(Dense(units=7,activation='relu'))"
   ]
  },
  {
   "cell_type": "code",
   "execution_count": 67,
   "id": "1c0dcb9b",
   "metadata": {},
   "outputs": [],
   "source": [
    "#dropout:\n",
    "classifier.add(Dropout(0.3))"
   ]
  },
  {
   "cell_type": "code",
   "execution_count": 68,
   "id": "499aeef0",
   "metadata": {},
   "outputs": [],
   "source": [
    "# Adding the input layer and the second hidden layer\n",
    "classifier.add(Dense(units=6,activation='relu'))"
   ]
  },
  {
   "cell_type": "code",
   "execution_count": 69,
   "id": "d7c09662",
   "metadata": {},
   "outputs": [],
   "source": [
    "# Adding the input layer and the first hidden layer\n",
    "classifier.add(Dense(units=1,activation='sigmoid'))"
   ]
  },
  {
   "cell_type": "code",
   "execution_count": 70,
   "id": "d65203fd",
   "metadata": {},
   "outputs": [],
   "source": [
    "classifier.compile(optimizer=opt,loss=\"binary_crossentropy\",metrics=[\"accuracy\"])"
   ]
  },
  {
   "cell_type": "code",
   "execution_count": 71,
   "id": "435420e8",
   "metadata": {},
   "outputs": [],
   "source": [
    "import tensorflow\n",
    "opt=tensorflow.keras.optimizers.Adam(learning_rate=0.01)"
   ]
  },
  {
   "cell_type": "code",
   "execution_count": 72,
   "id": "7569d44b",
   "metadata": {},
   "outputs": [],
   "source": [
    "#Early stopping:\n",
    "import tensorflow as tf\n",
    "\n",
    "\n",
    "early_stopping=tf.keras.callbacks.EarlyStopping(\n",
    "    monitor=\"val_loss\",\n",
    "    min_delta=0.0001,\n",
    "    patience=20,\n",
    "    verbose=1,\n",
    "    mode=\"auto\",\n",
    "    baseline=None,\n",
    "    restore_best_weights=False,\n",
    "    start_from_epoch=0,\n",
    ")"
   ]
  },
  {
   "cell_type": "code",
   "execution_count": 73,
   "id": "0bff9d38",
   "metadata": {},
   "outputs": [
    {
     "name": "stdout",
     "output_type": "stream",
     "text": [
      "Epoch 1/1000\n",
      "536/536 [==============================] - 5s 4ms/step - loss: 0.4505 - accuracy: 0.7959 - val_loss: 0.4013 - val_accuracy: 0.7955\n",
      "Epoch 2/1000\n",
      "536/536 [==============================] - 3s 5ms/step - loss: 0.3996 - accuracy: 0.8026 - val_loss: 0.3867 - val_accuracy: 0.7955\n",
      "Epoch 3/1000\n",
      "536/536 [==============================] - 2s 4ms/step - loss: 0.3866 - accuracy: 0.8255 - val_loss: 0.3819 - val_accuracy: 0.8508\n",
      "Epoch 4/1000\n",
      "536/536 [==============================] - 3s 5ms/step - loss: 0.3798 - accuracy: 0.8309 - val_loss: 0.4118 - val_accuracy: 0.8300\n",
      "Epoch 5/1000\n",
      "536/536 [==============================] - 3s 5ms/step - loss: 0.3759 - accuracy: 0.8322 - val_loss: 0.4117 - val_accuracy: 0.8478\n",
      "Epoch 6/1000\n",
      "536/536 [==============================] - 3s 5ms/step - loss: 0.3690 - accuracy: 0.8438 - val_loss: 0.3790 - val_accuracy: 0.8459\n",
      "Epoch 7/1000\n",
      "536/536 [==============================] - 3s 6ms/step - loss: 0.3697 - accuracy: 0.8405 - val_loss: 0.4020 - val_accuracy: 0.8466\n",
      "Epoch 8/1000\n",
      "536/536 [==============================] - 3s 5ms/step - loss: 0.3642 - accuracy: 0.8418 - val_loss: 0.4035 - val_accuracy: 0.8463\n",
      "Epoch 9/1000\n",
      "536/536 [==============================] - 3s 5ms/step - loss: 0.3699 - accuracy: 0.8423 - val_loss: 0.4140 - val_accuracy: 0.8463\n",
      "Epoch 10/1000\n",
      "536/536 [==============================] - 3s 5ms/step - loss: 0.3640 - accuracy: 0.8434 - val_loss: 0.4264 - val_accuracy: 0.8360\n",
      "Epoch 11/1000\n",
      "536/536 [==============================] - 3s 5ms/step - loss: 0.3656 - accuracy: 0.8410 - val_loss: 0.3922 - val_accuracy: 0.8387\n",
      "Epoch 12/1000\n",
      "536/536 [==============================] - 3s 5ms/step - loss: 0.3652 - accuracy: 0.8405 - val_loss: 0.3825 - val_accuracy: 0.8482\n",
      "Epoch 13/1000\n",
      "536/536 [==============================] - 3s 6ms/step - loss: 0.3687 - accuracy: 0.8388 - val_loss: 0.4155 - val_accuracy: 0.8497\n",
      "Epoch 14/1000\n",
      "536/536 [==============================] - 3s 5ms/step - loss: 0.3624 - accuracy: 0.8453 - val_loss: 0.4006 - val_accuracy: 0.8451\n",
      "Epoch 15/1000\n",
      "536/536 [==============================] - 2s 5ms/step - loss: 0.3598 - accuracy: 0.8461 - val_loss: 0.3760 - val_accuracy: 0.8478\n",
      "Epoch 16/1000\n",
      "536/536 [==============================] - 3s 5ms/step - loss: 0.3625 - accuracy: 0.8477 - val_loss: 0.3839 - val_accuracy: 0.8440\n",
      "Epoch 17/1000\n",
      "536/536 [==============================] - 4s 8ms/step - loss: 0.3619 - accuracy: 0.8479 - val_loss: 0.4033 - val_accuracy: 0.8508\n",
      "Epoch 18/1000\n",
      "536/536 [==============================] - 3s 6ms/step - loss: 0.3687 - accuracy: 0.8386 - val_loss: 0.4073 - val_accuracy: 0.8470\n",
      "Epoch 19/1000\n",
      "536/536 [==============================] - 4s 8ms/step - loss: 0.3616 - accuracy: 0.8397 - val_loss: 0.3863 - val_accuracy: 0.8455\n",
      "Epoch 20/1000\n",
      "536/536 [==============================] - 4s 7ms/step - loss: 0.3608 - accuracy: 0.8418 - val_loss: 0.4651 - val_accuracy: 0.7929\n",
      "Epoch 21/1000\n",
      "536/536 [==============================] - 3s 6ms/step - loss: 0.3642 - accuracy: 0.8418 - val_loss: 0.4149 - val_accuracy: 0.8482\n",
      "Epoch 22/1000\n",
      "536/536 [==============================] - 3s 5ms/step - loss: 0.3528 - accuracy: 0.8505 - val_loss: 0.3921 - val_accuracy: 0.8485\n",
      "Epoch 23/1000\n",
      "536/536 [==============================] - 3s 5ms/step - loss: 0.3558 - accuracy: 0.8483 - val_loss: 0.3980 - val_accuracy: 0.8478\n",
      "Epoch 24/1000\n",
      "536/536 [==============================] - 3s 5ms/step - loss: 0.3583 - accuracy: 0.8442 - val_loss: 0.4564 - val_accuracy: 0.7618\n",
      "Epoch 25/1000\n",
      "536/536 [==============================] - 3s 6ms/step - loss: 0.3561 - accuracy: 0.8462 - val_loss: 0.3861 - val_accuracy: 0.8493\n",
      "Epoch 26/1000\n",
      "536/536 [==============================] - 4s 7ms/step - loss: 0.3541 - accuracy: 0.8453 - val_loss: 0.4057 - val_accuracy: 0.8421\n",
      "Epoch 27/1000\n",
      "536/536 [==============================] - 4s 7ms/step - loss: 0.3566 - accuracy: 0.8475 - val_loss: 0.4110 - val_accuracy: 0.8463\n",
      "Epoch 28/1000\n",
      "536/536 [==============================] - 4s 8ms/step - loss: 0.3533 - accuracy: 0.8472 - val_loss: 0.5179 - val_accuracy: 0.7467\n",
      "Epoch 29/1000\n",
      "536/536 [==============================] - 3s 7ms/step - loss: 0.3542 - accuracy: 0.8485 - val_loss: 0.4739 - val_accuracy: 0.7804\n",
      "Epoch 30/1000\n",
      "536/536 [==============================] - 3s 6ms/step - loss: 0.3517 - accuracy: 0.8431 - val_loss: 0.4205 - val_accuracy: 0.8406\n",
      "Epoch 31/1000\n",
      "536/536 [==============================] - 3s 6ms/step - loss: 0.3547 - accuracy: 0.8447 - val_loss: 0.4757 - val_accuracy: 0.7853\n",
      "Epoch 32/1000\n",
      "536/536 [==============================] - 3s 6ms/step - loss: 0.3524 - accuracy: 0.8477 - val_loss: 0.4385 - val_accuracy: 0.7827\n",
      "Epoch 33/1000\n",
      "536/536 [==============================] - 4s 7ms/step - loss: 0.3519 - accuracy: 0.8500 - val_loss: 0.4456 - val_accuracy: 0.8292\n",
      "Epoch 34/1000\n",
      "536/536 [==============================] - 4s 7ms/step - loss: 0.3571 - accuracy: 0.8395 - val_loss: 0.4449 - val_accuracy: 0.8459\n",
      "Epoch 35/1000\n",
      "536/536 [==============================] - 3s 6ms/step - loss: 0.3547 - accuracy: 0.8427 - val_loss: 0.3927 - val_accuracy: 0.8508\n",
      "Epoch 35: early stopping\n"
     ]
    }
   ],
   "source": [
    "##test\n",
    "model_history=classifier.fit(X_train,y_train,validation_split=0.33,batch_size=10,epochs=1000,callbacks=early_stopping)"
   ]
  },
  {
   "cell_type": "code",
   "execution_count": 74,
   "id": "4aa203b1",
   "metadata": {},
   "outputs": [
    {
     "data": {
      "text/plain": [
       "dict_keys(['loss', 'accuracy', 'val_loss', 'val_accuracy'])"
      ]
     },
     "execution_count": 74,
     "metadata": {},
     "output_type": "execute_result"
    }
   ],
   "source": [
    "model_history.history.keys()"
   ]
  },
  {
   "cell_type": "code",
   "execution_count": 75,
   "id": "6ba9fec1",
   "metadata": {},
   "outputs": [
    {
     "data": {
      "image/png": "[encoded data removed]",
      "text/plain": [
       "<Figure size 640x480 with 1 Axes>"
      ]
     },
     "metadata": {},
     "output_type": "display_data"
    }
   ],
   "source": [
    "\n",
    "# summarize history for accuracy\n",
    "plt.plot(model_history.history['accuracy'])\n",
    "plt.plot(model_history.history['val_accuracy'])\n",
    "plt.title('model accuracy')\n",
    "plt.ylabel('accuracy')\n",
    "plt.xlabel('epoch')\n",
    "plt.legend(['train', 'test'], loc='upper left')\n",
    "plt.show()"
   ]
  },
  {
   "cell_type": "code",
   "execution_count": 76,
   "id": "706bbf3d",
   "metadata": {},
   "outputs": [
    {
     "data": {
      "image/png": "[encoded data removed]",
      "text/plain": [
       "<Figure size 640x480 with 1 Axes>"
      ]
     },
     "metadata": {},
     "output_type": "display_data"
    }
   ],
   "source": [
    "# summarize history for loss\n",
    "plt.plot(model_history.history['loss'])\n",
    "plt.plot(model_history.history['val_loss'])\n",
    "plt.title('model loss')\n",
    "plt.ylabel('loss')\n",
    "plt.xlabel('epoch')\n",
    "plt.legend(['train', 'test'], loc='upper left')\n",
    "plt.show()"
   ]
  },
  {
   "cell_type": "code",
   "execution_count": 77,
   "id": "0fdb4138",
   "metadata": {},
   "outputs": [
    {
     "name": "stdout",
     "output_type": "stream",
     "text": [
      "63/63 [==============================] - 1s 5ms/step\n"
     ]
    }
   ],
   "source": [
    "# Part 3 - Making the predictions and evaluating the model\n",
    "\n",
    "# Predicting the Test set results\n",
    "y_pred = classifier.predict(X_test)\n",
    "y_pred = (y_pred > 0.5)"
   ]
  },
  {
   "cell_type": "code",
   "execution_count": 78,
   "id": "7a547091",
   "metadata": {},
   "outputs": [
    {
     "data": {
      "text/plain": [
       "array([[1489,  106],\n",
       "       [ 185,  220]], dtype=int64)"
      ]
     },
     "execution_count": 78,
     "metadata": {},
     "output_type": "execute_result"
    }
   ],
   "source": [
    "# Making the Confusion Matrix\n",
    "from sklearn.metrics import confusion_matrix\n",
    "cm = confusion_matrix(y_test, y_pred)\n",
    "cm"
   ]
  },
  {
   "cell_type": "code",
   "execution_count": 79,
   "id": "e65793c0",
   "metadata": {},
   "outputs": [],
   "source": [
    "# Calculate the Accuracy\n",
    "from sklearn.metrics import accuracy_score\n",
    "score=accuracy_score(y_pred,y_test)"
   ]
  },
  {
   "cell_type": "code",
   "execution_count": 80,
   "id": "9fcca68e",
   "metadata": {},
   "outputs": [
    {
     "data": {
      "text/plain": [
       "0.8545"
      ]
     },
     "execution_count": 80,
     "metadata": {},
     "output_type": "execute_result"
    }
   ],
   "source": [
    "score"
   ]
  },
  {
   "cell_type": "code",
   "execution_count": 81,
   "id": "47c8f04c",
   "metadata": {},
   "outputs": [],
   "source": [
    "##get the weights\n",
    "wt=classifier.get_weights()"
   ]
  },
  {
   "cell_type": "code",
   "execution_count": 65,
   "id": "6306706e",
   "metadata": {},
   "outputs": [
    {
     "data": {
      "text/plain": [
       "[array([[ 1.0659568e-01,  1.3967352e+00,  5.0262529e-01, -3.9264075e-03,\n",
       "          2.9846290e-01,  5.7214129e-01,  2.6413085e+00, -1.5418400e-02,\n",
       "         -5.4066253e-01, -1.3707243e-01, -8.3546519e-01],\n",
       "        [ 5.3299350e-01, -1.9680302e+00, -9.9757558e-01, -2.9753283e-01,\n",
       "         -1.9015048e+00,  1.5312836e+00, -3.3100705e+00,  3.1934597e+00,\n",
       "          4.2626386e+00, -3.9219720e+00, -3.1651869e+00],\n",
       "        [ 1.5979819e-01,  3.2624680e-01,  7.5757319e-01, -2.9994461e-01,\n",
       "          2.3478866e+00, -8.6577833e-01, -1.3419858e+00,  2.5846022e-01,\n",
       "          5.5749513e-02, -9.2503208e-01,  9.2923391e-01],\n",
       "        [ 1.5372391e+00,  1.1431923e+00, -1.8660960e+00, -3.5919492e+00,\n",
       "          1.9906976e+00,  2.1195729e+00, -9.4112194e-01,  2.6190165e-01,\n",
       "         -8.1201605e-02,  6.2872338e-01,  7.1361446e-01],\n",
       "        [ 4.8847742e+00, -1.5565858e+00,  3.5638267e-01, -4.5324311e+00,\n",
       "         -3.8303912e-01,  6.9257272e-03,  1.1071029e+00,  1.7763330e-01,\n",
       "         -2.6196144e+00,  6.0144049e-01,  8.7852293e-01],\n",
       "        [-4.2067102e-01,  1.0954959e+00, -5.2215362e-01, -6.3947773e-01,\n",
       "         -9.8698801e-01,  1.8160670e-01,  2.1033627e-01, -3.0534413e-01,\n",
       "         -1.0911630e+00, -1.8345526e+00,  9.0631354e-01],\n",
       "        [ 4.3774292e-01,  2.2211540e+00,  2.2328730e+00,  1.7716047e-01,\n",
       "         -1.8625480e-01, -1.3239797e+00, -3.7540671e-01,  3.0279448e+00,\n",
       "         -1.1837528e+00, -8.1512982e-01,  1.1827264e+00],\n",
       "        [-2.7170184e-01,  6.2158817e-01, -1.9957073e+00, -1.6208121e-01,\n",
       "         -1.2254012e+00, -2.5352929e+00,  3.6597469e-01, -3.6002710e-01,\n",
       "          8.1921732e-01, -8.4453696e-01, -8.7223399e-01],\n",
       "        [-1.2157865e+00, -2.2203503e+00, -9.0763885e-01,  2.2609355e+00,\n",
       "         -2.6992433e+00,  7.0875990e-01, -1.0006019e+00, -2.0902993e-01,\n",
       "          2.5786653e-01, -1.1691592e+00, -4.3202224e-01],\n",
       "        [ 7.1107501e-01,  1.0806782e+00,  1.4688601e+00,  4.0449622e-01,\n",
       "          1.2015620e+00, -2.9867914e-01, -7.7398103e-01,  6.1993703e-02,\n",
       "          3.4968698e-01, -2.6633520e+00,  9.0824878e-01],\n",
       "        [ 1.8814014e-01,  1.7980806e+00,  8.7922466e-01,  5.3648317e-01,\n",
       "         -7.2706670e-02,  8.5457462e-01,  1.7190740e+00,  1.2955643e+00,\n",
       "          2.2027200e-01,  1.1390598e-01,  1.6853360e+00]], dtype=float32),\n",
       " array([-4.03896  , -0.8843283,  1.1877959, -1.3612808, -1.5220776,\n",
       "        -0.5856019,  0.5663356, -4.9688644, -1.2073168, -0.296687 ,\n",
       "         2.6265924], dtype=float32),\n",
       " array([[-1.7829071 ,  0.48580053, -4.9941664 , -0.47279963, -1.8170379 ,\n",
       "          4.388734  ],\n",
       "        [-0.2983033 , -2.409239  , -0.5338387 , -1.9360989 , -1.8482033 ,\n",
       "         -1.9446564 ],\n",
       "        [ 1.6940864 , -1.6712698 ,  1.5600853 ,  0.32143962,  0.24176025,\n",
       "         -0.05812523],\n",
       "        [-2.511714  , -2.4751422 , -3.9972544 ,  0.16473001, -1.9481463 ,\n",
       "          0.6386883 ],\n",
       "        [-0.1724695 ,  0.4544708 , -0.8560622 , -0.04345487, -4.688933  ,\n",
       "         -1.5265871 ],\n",
       "        [-0.01099242, -0.18024425, -2.9712527 , -0.19966032, -0.15239634,\n",
       "          0.79797703],\n",
       "        [ 0.83816856,  1.443937  ,  1.4658767 , -2.065463  , -0.5499459 ,\n",
       "         -0.45665395],\n",
       "        [-0.7274425 , -0.95802206,  1.0025102 , -4.088991  ,  2.1608012 ,\n",
       "         -4.1849265 ],\n",
       "        [-1.0727426 , -2.294653  , -0.9900015 ,  1.0568347 ,  0.02953646,\n",
       "          1.249617  ],\n",
       "        [ 1.2584857 , -0.08710683, -0.5962307 , -2.7134006 , -0.5339732 ,\n",
       "         -0.5609051 ],\n",
       "        [ 0.7405299 , -0.9257969 ,  0.92498416, -3.9510345 , -0.36304155,\n",
       "         -0.178341  ]], dtype=float32),\n",
       " array([ 3.2888515, -1.4741713,  0.625316 , -0.525369 , -2.5548406,\n",
       "        -2.08877  ], dtype=float32),\n",
       " array([[-0.61624634, -2.4771657 ,  0.61841935, -0.63510495, -1.537133  ,\n",
       "         -0.5950151 , -0.3464181 , -0.45169064, -3.1934557 , -0.39910036,\n",
       "         -0.07518263],\n",
       "        [-0.32571086,  0.7180885 , -1.7442462 , -0.839819  ,  0.7683629 ,\n",
       "          0.01662717,  0.2919741 ,  1.3024809 , -0.1593041 ,  1.3484622 ,\n",
       "         -0.02047135],\n",
       "        [ 1.036778  , -0.4580799 ,  2.415766  ,  0.07262307, -0.32633913,\n",
       "         -0.49098384,  2.365559  ,  2.5636961 , -2.671472  ,  2.7538931 ,\n",
       "          1.5504633 ],\n",
       "        [-0.40652892,  0.9060429 ,  0.21054257, -0.48358208,  1.1718186 ,\n",
       "         -0.23066969, -0.63625675, -0.3196666 , -0.32718387, -0.24863862,\n",
       "         -0.01839605],\n",
       "        [-0.1637271 , -1.316437  ,  0.90866697, -0.37330925, -2.081264  ,\n",
       "         -0.02893022,  0.8291794 ,  0.43443447, -1.7302928 ,  0.7585418 ,\n",
       "          0.42530692],\n",
       "        [-0.88087577,  0.52648085, -1.8940848 , -0.32756957,  1.7082093 ,\n",
       "         -0.95844936, -1.0635723 , -0.7500319 , -0.6797933 , -1.0623907 ,\n",
       "         -0.993346  ]], dtype=float32),\n",
       " array([-0.13004455, -2.5291207 ,  0.11594442, -1.3858505 ,  0.41015622,\n",
       "        -0.48800543, -2.7823741 , -2.7765598 , -0.3256095 , -2.9769032 ,\n",
       "        -2.5483785 ], dtype=float32),\n",
       " array([[-0.11939315, -0.37747908, -0.48310497, -1.1265562 , -0.3585003 ,\n",
       "         -0.2861961 , -0.03430172],\n",
       "        [-0.36631745,  0.01604097, -0.5751673 ,  0.5622123 , -1.2016699 ,\n",
       "         -0.29047844, -1.3235968 ],\n",
       "        [-0.9768286 , -0.31217247, -1.4628786 , -0.9012957 , -0.3370341 ,\n",
       "         -0.2551058 ,  0.6876268 ],\n",
       "        [-0.2063208 , -0.0422013 , -1.8682498 , -0.11572906, -0.06941844,\n",
       "          0.2911027 , -0.14297703],\n",
       "        [-0.568549  , -0.2101236 , -1.3504765 ,  0.8060294 , -1.5231619 ,\n",
       "         -0.7840101 , -2.5627673 ],\n",
       "        [ 0.14602922, -0.23964603,  0.58380467,  0.8804622 ,  0.551517  ,\n",
       "          0.36178726,  0.47115973],\n",
       "        [-0.01932649, -0.43121433, -0.23215555, -0.05135098, -0.1627098 ,\n",
       "          0.21392587,  0.72936404],\n",
       "        [-0.10793036, -0.5991937 , -0.12185786, -1.141485  ,  0.54453963,\n",
       "         -0.46065974,  0.7138093 ],\n",
       "        [ 0.32221088, -0.17521605, -0.38320935,  0.490615  ,  0.33256316,\n",
       "         -1.0695208 , -1.7500229 ],\n",
       "        [ 0.06349387, -0.432262  , -1.2428166 , -0.34848914,  0.16762604,\n",
       "          0.15516172,  0.6810668 ],\n",
       "        [-0.94571793, -0.1924305 ,  0.54454064, -0.20647596, -0.31559896,\n",
       "         -0.2310296 ,  0.06521127]], dtype=float32),\n",
       " array([-0.50876623, -0.07449956, -1.61222   , -1.4082502 , -0.59312505,\n",
       "        -1.5475196 ,  0.37156355], dtype=float32),\n",
       " array([[ 0.14126877,  0.2874543 ,  0.12167567, -0.10237936, -0.3770264 ,\n",
       "          0.43600413],\n",
       "        [-0.1950783 , -0.5852497 ,  0.21768036,  0.3266136 , -0.47611916,\n",
       "         -0.32773936],\n",
       "        [ 1.0197685 , -0.40517607,  0.40101463,  0.05900137, -0.16084337,\n",
       "         -0.19249183],\n",
       "        [-0.00979531, -0.21284759,  0.47974783, -0.88676333, -1.1550164 ,\n",
       "         -1.933285  ],\n",
       "        [-0.8672592 , -0.53685695, -1.4854492 , -0.4315199 , -0.15821104,\n",
       "          0.10058141],\n",
       "        [-0.77933735, -0.8800597 , -0.4147234 , -0.5169493 , -0.28827688,\n",
       "          0.03818538],\n",
       "        [-0.33335638, -0.02234674, -0.44797844, -0.718188  , -0.10074881,\n",
       "          0.47577134]], dtype=float32),\n",
       " array([-1.3514857 , -0.5321238 , -2.8071423 , -0.7137675 , -0.37605304,\n",
       "         0.45797065], dtype=float32),\n",
       " array([[-0.04642264],\n",
       "        [ 0.19504452],\n",
       "        [-0.28372273],\n",
       "        [ 0.08147133],\n",
       "        [-0.02391687],\n",
       "        [ 0.4132256 ]], dtype=float32),\n",
       " array([-0.08688171], dtype=float32),\n",
       " array([[-6.3049717]], dtype=float32),\n",
       " array([2.6505482], dtype=float32)]"
      ]
     },
     "execution_count": 65,
     "metadata": {},
     "output_type": "execute_result"
    }
   ],
   "source": [
    "wt\n",
    "\n"
   ]
  },
  {
   "cell_type": "code",
   "execution_count": null,
   "id": "6c16bf3f",
   "metadata": {},
   "outputs": [],
   "source": []
  }
 ],
 "metadata": {
  "kernelspec": {
   "display_name": "Python 3 (ipykernel)",
   "language": "python",
   "name": "python3"
  },
  "language_info": {
   "codemirror_mode": {
    "name": "ipython",
    "version": 3
   },
   "file_extension": ".py",
   "mimetype": "text/x-python",
   "name": "python",
   "nbconvert_exporter": "python",
   "pygments_lexer": "ipython3",
   "version": "3.10.9"
  }
 },
 "nbformat": 4,
 "nbformat_minor": 5
}
